{
  "cells": [
    {
      "cell_type": "markdown",
      "metadata": {
        "id": "view-in-github",
        "colab_type": "text"
      },
      "source": [
        "<a href=\"https://colab.research.google.com/github/nikhilchint/Diabetic-Retinopathy/blob/master/datapre.ipynb\" target=\"_parent\"><img src=\"https://colab.research.google.com/assets/colab-badge.svg\" alt=\"Open In Colab\"/></a>"
      ]
    },
    {
      "cell_type": "code",
      "execution_count": null,
      "metadata": {
        "colab": {
          "base_uri": "https://localhost:8080/"
        },
        "id": "7h-Okc_9C8Sh",
        "outputId": "b13ba9b0-74bd-4018-919d-6f3f58f5eb65"
      },
      "outputs": [
        {
          "output_type": "stream",
          "name": "stdout",
          "text": [
            "Drive already mounted at /content/drive; to attempt to forcibly remount, call drive.mount(\"/content/drive\", force_remount=True).\n"
          ]
        }
      ],
      "source": [
        "from google.colab import drive\n",
        "drive.mount('/content/drive')"
      ]
    },
    {
      "cell_type": "code",
      "execution_count": null,
      "metadata": {
        "id": "n24PpyU5blVO"
      },
      "outputs": [],
      "source": [
        "import cv2\n",
        "import numpy as np\n",
        "# img=cv2.imread(\"/content/gdrive/MyDrive/colored_images/colored_images/Severe/10047_left.png\")\n"
      ]
    },
    {
      "cell_type": "code",
      "execution_count": null,
      "metadata": {
        "id": "UJNAjSGjd-DM"
      },
      "outputs": [],
      "source": []
    },
    {
      "cell_type": "code",
      "execution_count": null,
      "metadata": {
        "id": "tZN-djOgeBR6"
      },
      "outputs": [],
      "source": [
        "from keras.preprocessing import image\n",
        "# from keras.preprocessing.image import ImageDataGenerator"
      ]
    },
    {
      "cell_type": "code",
      "execution_count": null,
      "metadata": {
        "id": "kE2Iw3wwehUj"
      },
      "outputs": [],
      "source": [
        "import matplotlib.pyplot as plt"
      ]
    },
    {
      "cell_type": "code",
      "execution_count": null,
      "metadata": {
        "id": "njvD8d1nflal"
      },
      "outputs": [],
      "source": [
        "# ImageDataGenerator,\n",
        "import keras\n",
        "from tensorflow.keras.utils import load_img,array_to_img,img_to_array\n",
        "from keras.preprocessing.image import ImageDataGenerator\n",
        "# img=load_img('/content/drive/MyDrive/update/Copy of 44200_right.png')\n",
        "# print(img.size)\n",
        "# img\n"
      ]
    },
    {
      "cell_type": "code",
      "execution_count": null,
      "metadata": {
        "colab": {
          "base_uri": "https://localhost:8080/"
        },
        "id": "tFDVD4_zjwA4",
        "outputId": "3c8b6263-f590-427e-ce06-ee0685c59c4d"
      },
      "outputs": [
        {
          "name": "stdout",
          "output_type": "stream",
          "text": [
            "(1, 224, 224, 3)\n"
          ]
        }
      ],
      "source": [
        "datagen=ImageDataGenerator(\n",
        "    \n",
        "    vertical_flip=True,\n",
        "\n",
        "    horizontal_flip=True\n",
        "    \n",
        "  \n",
        ")\n",
        "x=img_to_array(img)\n",
        "x\n",
        "x=x.reshape((1,)+x.shape)\n",
        "i=0\n",
        "for batch in datagen.flow(x,batch_size=1,\n",
        "                          save_to_dir='/content/drive/MyDrive/update',save_format='png',save_prefix='3'):\n",
        "  i+=1\n",
        "  if(i>4):\n",
        "    break\n",
        "print(x.shape)\n"
      ]
    },
    {
      "cell_type": "code",
      "execution_count": null,
      "metadata": {
        "id": "_OD-0_aE9spb"
      },
      "outputs": [],
      "source": [
        "img=load_img('/content/gdrive/MyDrive/update/3_0_1303.png')\n",
        "x=img_to_array(img)\n",
        "x\n",
        "x=x.reshape((1,)+x.shape)\n",
        "i=0\n",
        "for batch in datagen.flow(x,batch_size=1,\n",
        "                          save_to_dir='/content/gdrive/MyDrive/update',save_format='png',save_prefix='3'):\n",
        "  i+=1\n",
        "  if(i>4):\n",
        "    break\n",
        "print(x.shape)"
      ]
    },
    {
      "cell_type": "code",
      "execution_count": null,
      "metadata": {
        "id": "LyWueg4tAAOP"
      },
      "outputs": [],
      "source": [
        "import pandas as pd\n",
        "import numpy as np\n",
        "import os\n",
        "import tensorflow as tf\n",
        "import cv2\n",
        "from tensorflow import keras\n",
        "# from tensorflow.keras import layers, Dense, Input, InputLayer, Flatten\n",
        "from tensorflow.keras.models import Sequential, Model\n",
        "from  matplotlib import pyplot as plt\n",
        "import matplotlib.image as mpimg\n",
        "%matplotlib inline\n",
        "import random\n",
        "import keras\n",
        "from tensorflow.keras.utils import load_img,array_to_img,img_to_array\n",
        "from keras.preprocessing.image import ImageDataGenerator"
      ]
    },
    {
      "cell_type": "code",
      "execution_count": null,
      "metadata": {
        "id": "4YQMJZDZ_xO8"
      },
      "outputs": [],
      "source": [
        "plt.figure(figsize=(20,20))\n",
        "test_folder=r'/content/gdrive/MyDrive'\n",
        "for i in range(5):\n",
        "    file = random.choice(os.listdir('/content/drive/MyDrive/update'))\n",
        "    image_path= os.path.join('/content/drive/MyDrive/update', file)\n",
        "    img=mpimg.imread(image_path)\n",
        "    ax=plt.subplot(1,5,i+1)\n",
        "    ax.title.set_text(file)\n",
        "    plt.imshow(img)\n",
        "    x=img_to_array(img)\n",
        "    x\n",
        "    x=x.reshape((1,)+x.shape)\n",
        "    i=0\n",
        "    for batch in datagen.flow(x,batch_size=25,\n",
        "                          save_to_dir='/content/drive/MyDrive/update',save_format='png',save_prefix='3'):\n",
        "      \n",
        "      i+=1\n",
        "      if(i>4):\n",
        "        break\n",
        "      print(x.shape)\n"
      ]
    },
    {
      "cell_type": "code",
      "execution_count": null,
      "metadata": {
        "id": "BKswf2HqUIWh"
      },
      "outputs": [],
      "source": [
        "# data_dir = \"/content/drive/MyDrive/colored_images/colored_images\" # Datasets path\n",
        "# data_dir = pathlib.Path(data_dir)\n",
        "# data_dir"
      ]
    },
    {
      "cell_type": "code",
      "execution_count": null,
      "metadata": {
        "id": "K5bVSFdwcb6f"
      },
      "outputs": [],
      "source": [
        "datagen=ImageDataGenerator(\n",
        "    \n",
        "    vertical_flip=True,\n",
        "\n",
        "    horizontal_flip=True\n",
        "    \n",
        "  \n",
        ")\n",
        "# x=img_to_array(img)\n",
        "# x\n",
        "# x=x.reshape((1,)+x.shape)\n",
        "# i=0\n",
        "# for batch in datagen.flow(x,batch_size=1,\n",
        "#                           save_to_dir='/content/drive/MyDrive/update',save_format='png',save_prefix='3'):\n",
        "#   i+=1\n",
        "#   if(i>4):\n",
        "#     break\n",
        "# print(x.shape)\n",
        "plt.figure(figsize=(20,20))\n",
        "test_folder=r'/content/gdrive/MyDrive'\n",
        "for i in range(708):\n",
        "    file = random.choice(os.listdir('/content/drive/MyDrive/colored_images/colored_images/Proliferate_DR'))\n",
        "    image_path= os.path.join('/content/drive/MyDrive/colored_images/colored_images/Proliferate_DR', file)\n",
        "    img=mpimg.imread(image_path)\n",
        "    # ax=plt.subplot(1,5,i+1)\n",
        "    # ax.title.set_text(file)\n",
        "    # plt.imshow(img)\n",
        "    x=img_to_array(img)\n",
        "    x=x.reshape((1,)+x.shape)\n",
        "    i=0\n",
        "    for batch in datagen.flow(x,batch_size=25,\n",
        "                          save_to_dir='/content/drive/MyDrive/colored_images/sorted_images/Proliferate_DR',save_format='png',save_prefix='4'):\n",
        "      \n",
        "      i+=1\n",
        "      if(i>5):\n",
        "        break\n",
        "      print(x.shape)"
      ]
    },
    {
      "cell_type": "code",
      "execution_count": null,
      "metadata": {
        "colab": {
          "base_uri": "https://localhost:8080/",
          "height": 52
        },
        "id": "OknX2sprdCdV",
        "outputId": "b31ae7e1-6291-40cd-d05d-405bf4565e5b"
      },
      "outputs": [
        {
          "name": "stdout",
          "output_type": "stream",
          "text": [
            "(1, 224, 224, 3)\n"
          ]
        },
        {
          "data": {
            "text/plain": [
              "<Figure size 1440x1440 with 0 Axes>"
            ]
          },
          "metadata": {},
          "output_type": "display_data"
        }
      ],
      "source": [
        "datagen=ImageDataGenerator(\n",
        "    \n",
        "    vertical_flip=True,\n",
        "\n",
        "    horizontal_flip=True\n",
        "    \n",
        "  \n",
        ")\n",
        "# x=img_to_array(img)\n",
        "# x\n",
        "# x=x.reshape((1,)+x.shape)\n",
        "# i=0\n",
        "# for batch in datagen.flow(x,batch_size=1,\n",
        "#                           save_to_dir='/content/drive/MyDrive/update',save_format='png',save_prefix='3'):\n",
        "#   i+=1\n",
        "#   if(i>4):\n",
        "#     break\n",
        "print(x.shape)\n",
        "plt.figure(figsize=(20,20))\n",
        "test_folder=r'/content/gdrive/MyDrive'\n",
        "for i in range(800):\n",
        "    file = random.choice(os.listdir('/content/drive/MyDrive/colored_images/colored_images/Severe'))\n",
        "    image_path= os.path.join('/content/drive/MyDrive/colored_images/colored_images/Severe', file)\n",
        "    img=mpimg.imread(image_path)\n",
        "    # ax=plt.subplot(1,5,i+1)\n",
        "    # ax.title.set_text(file)\n",
        "    # plt.imshow(img)\n",
        "    x=img_to_array(img)\n",
        "    x\n",
        "    x=x.reshape((1,)+x.shape)\n",
        "    i=0\n",
        "    for batch in datagen.flow(x,batch_size=25,\n",
        "                          save_to_dir='/content/drive/MyDrive/colored_images/sorted_images/Severe',save_format='png',save_prefix='3'):\n",
        "      \n",
        "      i+=1\n",
        "      if(i>4):\n",
        "        break\n",
        "      # print(x.shape)"
      ]
    },
    {
      "cell_type": "code",
      "execution_count": null,
      "metadata": {
        "colab": {
          "background_save": true
        },
        "id": "LicSbD9Tda4Z"
      },
      "outputs": [],
      "source": [
        "datagen=ImageDataGenerator(\n",
        "    \n",
        "    vertical_flip=False,\n",
        "\n",
        "    horizontal_flip=False\n",
        "    \n",
        "  \n",
        ")\n",
        "# x=img_to_array(img)\n",
        "# x\n",
        "# x=x.reshape((1,)+x.shape)\n",
        "# i=0\n",
        "# for batch in datagen.flow(x,batch_size=1,\n",
        "#                           save_to_dir='/content/drive/MyDrive/update',save_format='png',save_prefix='3'):\n",
        "#   i+=1\n",
        "#   if(i>4):\n",
        "#     break\n",
        "# print(x.shape)\n",
        "plt.figure(figsize=(20,20))\n",
        "test_folder=r'/content/gdrive/MyDrive'\n",
        "k=0\n",
        "for i in range(2200):\n",
        "    print(k)\n",
        "    k+=1\n",
        "    file = random.choice(os.listdir('/content/drive/MyDrive/colored_images/colored_images/Moderate'))\n",
        "    image_path= os.path.join('/content/drive/MyDrive/colored_images/colored_images/Moderate', file)\n",
        "    img=mpimg.imread(image_path)\n",
        "    # ax=plt.subplot(1,5,i+1)\n",
        "    # ax.title.set_text(file)\n",
        "    # plt.imshow(img)\n",
        "    x=img_to_array(img)\n",
        "    x\n",
        "    x=x.reshape((1,)+x.shape)\n",
        "    i=0\n",
        "    for batch in datagen.flow(x,batch_size=25,\n",
        "                          save_to_dir='/content/drive/MyDrive/colored_images/sorted_images/Moderate',save_format='png',save_prefix='2'):\n",
        "      \n",
        "      i+=1\n",
        "      if(i>2):\n",
        "        break\n",
        "      # print(x.shape)"
      ]
    },
    {
      "cell_type": "code",
      "execution_count": null,
      "metadata": {
        "colab": {
          "background_save": true
        },
        "id": "h1aYI3kYdrBn"
      },
      "outputs": [],
      "source": [
        "datagen=ImageDataGenerator(\n",
        "    \n",
        "    vertical_flip=False,\n",
        "\n",
        "    horizontal_flip=False\n",
        "    \n",
        "  \n",
        ")\n",
        "# x=img_to_array(img)\n",
        "# x\n",
        "# x=x.reshape((1,)+x.shape)\n",
        "# i=0\n",
        "# for batch in datagen.flow(x,batch_size=1,\n",
        "#                           save_to_dir='/content/drive/MyDrive/update',save_format='png',save_prefix='3'):\n",
        "#   i+=1\n",
        "#   if(i>4):\n",
        "#     break\n",
        "# print(x.shape)\n",
        "plt.figure(figsize=(20,20))\n",
        "test_folder=r'/content/gdrive/MyDrive'\n",
        "k=0\n",
        "for i in range(2200):\n",
        "    print(k)\n",
        "    k+=1\n",
        "    file = random.choice(os.listdir('/content/drive/MyDrive/colored_images/colored_images/Mild'))\n",
        "    image_path= os.path.join('/content/drive/MyDrive/colored_images/colored_images/Mild', file)\n",
        "    img=mpimg.imread(image_path)\n",
        "    # ax=plt.subplot(1,5,i+1)\n",
        "    # ax.title.set_text(file)\n",
        "    # plt.imshow(img)\n",
        "    x=img_to_array(img)\n",
        "    x\n",
        "    x=x.reshape((1,)+x.shape)\n",
        "    i=0\n",
        "    for batch in datagen.flow(x,batch_size=25,\n",
        "                          save_to_dir='/content/drive/MyDrive/colored_images/sorted_images/Mild',save_format='png',save_prefix='1'):\n",
        "      \n",
        "      i+=1\n",
        "      if(i>2):\n",
        "        break\n",
        "      # print(x.shape)"
      ]
    },
    {
      "cell_type": "code",
      "execution_count": null,
      "metadata": {
        "id": "eohJp_Hid-sT"
      },
      "outputs": [],
      "source": [
        "datagen=ImageDataGenerator(\n",
        "    \n",
        "    vertical_flip=False,\n",
        "\n",
        "    horizontal_flip=False\n",
        "    \n",
        "  \n",
        ")\n",
        "# x=img_to_array(img)\n",
        "# x\n",
        "# x=x.reshape((1,)+x.shape)\n",
        "# i=0\n",
        "# for batch in datagen.flow(x,batch_size=1,\n",
        "#                           save_to_dir='/content/drive/MyDrive/update',save_format='png',save_prefix='3'):\n",
        "#   i+=1\n",
        "#   if(i>4):\n",
        "#     break\n",
        "# print(x.shape)\n",
        "plt.figure(figsize=(20,20))\n",
        "test_folder=r'/content/gdrive/MyDrive'\n",
        "k=0\n",
        "for i in range(4000):\n",
        "    print(k)\n",
        "    k+=1\n",
        "    file = random.choice(os.listdir('/content/drive/MyDrive/colored_images/colored_images/No_DR'))\n",
        "    image_path= os.path.join('/content/drive/MyDrive/colored_images/colored_images/No_DR', file)\n",
        "    img=mpimg.imread(image_path)\n",
        "    # ax=plt.subplot(1,5,i+1)\n",
        "    # ax.title.set_text(file)\n",
        "    # plt.imshow(img)\n",
        "    x=img_to_array(img)\n",
        "    x\n",
        "    x=x.reshape((1,)+x.shape)\n",
        "    i=0\n",
        "    for batch in datagen.flow(x,batch_size=25,\n",
        "                          save_to_dir='/content/drive/MyDrive/colored_images/sorted_images/No_DR',save_format='png',save_prefix='0'):\n",
        "      \n",
        "      i+=1\n",
        "      if(i==1):\n",
        "        break\n",
        "      # print(x.shape)"
      ]
    }
  ],
  "metadata": {
    "accelerator": "GPU",
    "colab": {
      "provenance": [],
      "mount_file_id": "134pygr3yc-NKSTWpgn5hLjZXC-yjjYs9",
      "authorship_tag": "ABX9TyNTOhaUgR2IOJjgklrJJcid",
      "include_colab_link": true
    },
    "gpuClass": "standard",
    "kernelspec": {
      "display_name": "Python 3",
      "name": "python3"
    },
    "language_info": {
      "name": "python"
    }
  },
  "nbformat": 4,
  "nbformat_minor": 0
}